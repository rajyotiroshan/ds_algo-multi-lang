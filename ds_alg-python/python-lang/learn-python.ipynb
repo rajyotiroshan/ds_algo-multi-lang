{
 "cells": [
  {
   "cell_type": "code",
   "execution_count": 1,
   "metadata": {},
   "outputs": [
    {
     "name": "stdout",
     "output_type": "stream",
     "text": [
      "Larn Python Dictionary\n"
     ]
    }
   ],
   "source": [
    "#Dictionary\n",
    "print(\"Larn Python Dictionary\")"
   ]
  },
  {
   "cell_type": "code",
   "execution_count": 3,
   "metadata": {},
   "outputs": [
    {
     "data": {
      "text/plain": [
       "' \\nIn India, There CEO,CTO founder must remember this that even though they are paying salary in very lower range\\nto their employee mainly a fresher, Sometime tnow and then they will get an employee that is really way above their leage.and he or she can fix bad things happening in theor company\\n.But this can only be identified if they have not make unnecessary hierarchy.Let every one speak their idea or solution for a problem.\\nAs Amazon founder jeff bezos said, In meeting they let speak new joinee first.\\nIn this way you can also decide if after that your lead that you are paying high is able to add any idea on that or not.\\nand the new one is really doing or that comparitively at little salary.\\nAlso this can only be achieved if your manager/tech lead in not egoistic enough to destroy the very core of your innovation process.\\nIf you even find a single instance that he/she sat on any idea that should have been implemented before and the current problem\\nwill never have come.Beleave me just let them go.\\n..\\n\\n'"
      ]
     },
     "execution_count": 3,
     "metadata": {},
     "output_type": "execute_result"
    }
   ],
   "source": [
    "''' \n",
    "In India, There CEO,CTO founder must remember this that even though they are paying salary in very lower range\n",
    "to their employee mainly a fresher, Sometime tnow and then they will get an employee that is really way above their leage.and he or she can fix bad things happening in theor company\n",
    ".But this can only be identified if they have not make unnecessary hierarchy.Let every one speak their idea or solution for a problem.\n",
    "As Amazon founder jeff bezos said, In meeting they let speak new joinee first.\n",
    "In this way you can also decide if after that your lead that you are paying high is able to add any idea on that or not.\n",
    "and the new one is really doing or that comparitively at little salary.\n",
    "Also this can only be achieved if your manager/tech lead in not egoistic enough to destroy the very core of your innovation process.\n",
    "If you even find a single instance that he/she sat on any idea that should have been implemented before and the current problem\n",
    "will never have come.Beleave me just let them go.\n",
    "...\n",
    "\n",
    "'''"
   ]
  },
  {
   "cell_type": "code",
   "execution_count": 9,
   "metadata": {},
   "outputs": [
    {
     "name": "stdout",
     "output_type": "stream",
     "text": [
      "{'parleg': None, 'green peas': None}\n"
     ]
    }
   ],
   "source": [
    "#creating A Dictionary\n",
    "cart = {\"parleg\":10,\"green peas\":1};\n",
    "cart1 = dict({\"name\":\"rajan\",\"lname\":\"jha\"});\n",
    "#casting\n",
    "l1 = [(\"a\",1),(\"b\",2),(\"c\",3)];\n",
    "d1 = dict(l1);\n",
    "#copy\n",
    "d2 = d1.copy();\n",
    "#fromKeys\n",
    "keys = [\"fname\",\"sname\",\"lname\"];\n",
    "d3 = cart.fromkeys(cart);\n",
    "\n",
    "#print(cart);\n",
    "#print(cart1);\n",
    "#print(d1);\n",
    "#print(d2);\n",
    "print(d3);"
   ]
  },
  {
   "cell_type": "code",
   "execution_count": 15,
   "metadata": {},
   "outputs": [
    {
     "name": "stdout",
     "output_type": "stream",
     "text": [
      "None\n"
     ]
    }
   ],
   "source": [
    "#Reading From Adictionaly\n",
    "#Access using []\n",
    "cart = {\"parleg\":10,\"green peas\":1};\n",
    "parlegCount = cart[\"parleg\"];\n",
    "#using get()\n",
    "gPCount = cart.get(\"green peas\");\n",
    "#na = cart[\"p\"];#Error\n",
    "non = cart.get(\"p\");\n",
    "print(non);\n",
    "#print(gPCount)\n",
    "#print(parlegCount);\n",
    "\n"
   ]
  },
  {
   "cell_type": "code",
   "execution_count": 16,
   "metadata": {},
   "outputs": [
    {
     "name": "stdout",
     "output_type": "stream",
     "text": [
      "dict_keys(['parleg', 'green peas'])\n",
      "dict_values([10, 1])\n",
      "dict_items([('parleg', 10), ('green peas', 1)])\n"
     ]
    }
   ],
   "source": [
    "#Get All Keys:List,Value:List,key-value:Tuple\n",
    "cart = {\"parleg\":10,\"green peas\":1}\n",
    "keysList = cart.keys();#@return list\n",
    "valuesList = cart.values();#@return values\n",
    "keyValuesTuple = cart.items();#@return key value tuple\n",
    "print(keysList);\n",
    "print(valuesList);\n",
    "print(keyValuesTuple);"
   ]
  },
  {
   "cell_type": "code",
   "execution_count": 1,
   "metadata": {},
   "outputs": [
    {
     "name": "stdout",
     "output_type": "stream",
     "text": [
      "parleg 10\n",
      "green peas 1\n",
      "parleg 10\n",
      "green peas 1\n",
      "parleg\n",
      "green peas\n",
      "10\n",
      "1\n",
      "Yes\n",
      "{'parleg': 20, 'green peas': 2}\n",
      "{'parleg': 20, 'green peas': 2}\n"
     ]
    }
   ],
   "source": [
    "#Iterate Over Dictionary.\n",
    "cart = {\"parleg\":10,\"green peas\":1}\n",
    "for key in cart:\n",
    "    print(key,cart[key]);\n",
    "for key,value in cart.items():\n",
    "    print(key,value);\n",
    "for key in cart.keys():\n",
    "    print(key);\n",
    "for value in cart.values():\n",
    "    print(value);\n",
    "\n",
    "#Check If Key Exists\n",
    "cart = {\"parleg\":10,\"green peas\":1}\n",
    "if \"parleg\" in cart:\n",
    "    print(\"Yes\");\n",
    "\n",
    "#Update Dictionary\n",
    "cart = {\"parleg\":10,\"green peas\":1}\n",
    "cart[\"parleg\"] = 20;\n",
    "cart.update({\"green peas\":2});\n",
    "print(cart);\n",
    "\n",
    "#differemnce between update and set\n",
    "cart = {\"parleg\":10,\"green peas\":1}\n",
    "cart[\"parleg\"] = 20;\n",
    "cart[\"green peas\"] = 2;\n",
    "print(cart);"
   ]
  },
  {
   "cell_type": "code",
   "execution_count": 2,
   "metadata": {},
   "outputs": [
    {
     "name": "stdout",
     "output_type": "stream",
     "text": [
      "{'green peas': 1}\n"
     ]
    }
   ],
   "source": [
    "#Remove Item\n",
    "cart = {\"parleg\":10,\"green peas\":1}\n",
    "cart.pop(\"parleg\");\n",
    "print(cart);"
   ]
  },
  {
   "cell_type": "code",
   "execution_count": 3,
   "metadata": {},
   "outputs": [
    {
     "name": "stdout",
     "output_type": "stream",
     "text": [
      "{'parleg': 10}\n"
     ]
    }
   ],
   "source": [
    "#Remove Last Item\n",
    "cart = {\"parleg\":10,\"green peas\":1}\n",
    "cart.popitem();\n",
    "print(cart);"
   ]
  },
  {
   "cell_type": "code",
   "execution_count": 4,
   "metadata": {},
   "outputs": [
    {
     "name": "stdout",
     "output_type": "stream",
     "text": [
      "{}\n"
     ]
    }
   ],
   "source": [
    "#Remove All Items\n",
    "cart = {\"parleg\":10,\"green peas\":1} \n",
    "cart.clear();\n",
    "print(cart);"
   ]
  },
  {
   "cell_type": "code",
   "execution_count": 5,
   "metadata": {},
   "outputs": [
    {
     "ename": "NameError",
     "evalue": "name 'cart' is not defined",
     "output_type": "error",
     "traceback": [
      "\u001b[1;31m---------------------------------------------------------------------------\u001b[0m",
      "\u001b[1;31mNameError\u001b[0m                                 Traceback (most recent call last)",
      "Cell \u001b[1;32mIn[5], line 4\u001b[0m\n\u001b[0;32m      2\u001b[0m cart \u001b[38;5;241m=\u001b[39m {\u001b[38;5;124m\"\u001b[39m\u001b[38;5;124mparleg\u001b[39m\u001b[38;5;124m\"\u001b[39m:\u001b[38;5;241m10\u001b[39m,\u001b[38;5;124m\"\u001b[39m\u001b[38;5;124mgreen peas\u001b[39m\u001b[38;5;124m\"\u001b[39m:\u001b[38;5;241m1\u001b[39m}\n\u001b[0;32m      3\u001b[0m \u001b[38;5;28;01mdel\u001b[39;00m cart;\n\u001b[1;32m----> 4\u001b[0m \u001b[38;5;28mprint\u001b[39m(\u001b[43mcart\u001b[49m);\u001b[38;5;66;03m#Error \u001b[39;00m\n",
      "\u001b[1;31mNameError\u001b[0m: name 'cart' is not defined"
     ]
    }
   ],
   "source": [
    "#Delete Dictionary\n",
    "cart = {\"parleg\":10,\"green peas\":1}\n",
    "del cart;\n",
    "#print(cart);#Error "
   ]
  },
  {
   "cell_type": "code",
   "execution_count": 6,
   "metadata": {},
   "outputs": [
    {
     "name": "stdout",
     "output_type": "stream",
     "text": [
      "{'item1': {'name': 'parleg', 'price': 10}, 'item2': {'name': 'green peas', 'price': 1}}\n"
     ]
    }
   ],
   "source": [
    "#Nested Dictionary\n",
    "cart = {\n",
    "    \"item1\":{\n",
    "        \"name\":\"parleg\",\n",
    "        \"price\":10\n",
    "    },\n",
    "    \"item2\":{\n",
    "        \"name\":\"green peas\",\n",
    "        \"price\":1\n",
    "    }\n",
    "}\n",
    "print(cart);"
   ]
  },
  {
   "cell_type": "code",
   "execution_count": 7,
   "metadata": {},
   "outputs": [],
   "source": [
    "#   Dictionary Methods\n",
    "#   clear()\tRemoves all the elements from the dictionary\n",
    "#   copy()\tReturns a copy of the dictionary\n",
    "#   fromkeys()\tReturns a dictionary with the specified keys and value\n",
    "#   get()\tReturns the value of the specified key\n",
    "#   items()\tReturns a list containing a tuple for each key value pair\n",
    "#   keys()\tReturns a list containing the dictionary's keys\n",
    "#   pop()\tRemoves the element with the specified key\n",
    "#   popitem()\tRemoves the last inserted key-value pair\n",
    "#   setdefault()\tReturns the value of the specified key. If the key does not exist: insert the key, with the specified value\n",
    "#   update()\tUpdates the dictionary with the specified key-value pairs\n",
    "#   values()\tReturns a list of all the values in the dictionary\n",
    "#   Python Dictionary Methods\n",
    "#   Python has a set of built-in methods that you can use on dictionaries.\n"
   ]
  },
  {
   "cell_type": "code",
   "execution_count": null,
   "metadata": {},
   "outputs": [],
   "source": []
  }
 ],
 "metadata": {
  "kernelspec": {
   "display_name": "Python 3",
   "language": "python",
   "name": "python3"
  },
  "language_info": {
   "codemirror_mode": {
    "name": "ipython",
    "version": 3
   },
   "file_extension": ".py",
   "mimetype": "text/x-python",
   "name": "python",
   "nbconvert_exporter": "python",
   "pygments_lexer": "ipython3",
   "version": "3.12.3"
  }
 },
 "nbformat": 4,
 "nbformat_minor": 2
}
