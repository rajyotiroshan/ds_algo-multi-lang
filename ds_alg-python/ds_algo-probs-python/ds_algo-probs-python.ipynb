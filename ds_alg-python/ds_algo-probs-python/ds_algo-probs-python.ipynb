{
 "cells": [
  {
   "cell_type": "code",
   "execution_count": 7,
   "id": "bfafe22b-e982-4d63-bffe-f90a098dab4b",
   "metadata": {},
   "outputs": [
    {
     "name": "stdin",
     "output_type": "stream",
     "text": [
      "Enter no of fibonnacci? 20\n"
     ]
    },
    {
     "name": "stdout",
     "output_type": "stream",
     "text": [
      "0,1,1,2,3,5,8,13,21,34,55,89,144,233,377,610,987,1597,2584,4181,6765\n"
     ]
    }
   ],
   "source": [
    "#1#fibonnaci series\n",
    "n = int(input(\"Enter no of fibonnacci?\"))\n",
    "seclast = 0\n",
    "last = 1\n",
    "count = 2\n",
    "s = \"0,1\"\n",
    "while count <= n:\n",
    "    c = last + seclast\n",
    "    seclast = last\n",
    "    last = c\n",
    "    s += \",\"+ str(c)\n",
    "    count += 1\n",
    "print(s)"
   ]
  },
  {
   "cell_type": "code",
   "execution_count": null,
   "id": "bf6de550-85e6-4b87-bc53-f613d6d4b9f0",
   "metadata": {},
   "outputs": [],
   "source": [
    "#2#Binary to Decimal"
   ]
  },
  {
   "cell_type": "code",
   "execution_count": null,
   "id": "1b7c9037-6d91-4a2d-a201-52a6765c2754",
   "metadata": {},
   "outputs": [],
   "source": [
    "#3#Binary to decimal"
   ]
  },
  {
   "cell_type": "code",
   "execution_count": 3,
   "id": "52c3deee-8d1c-4499-be3f-89972a51d823",
   "metadata": {},
   "outputs": [
    {
     "name": "stdout",
     "output_type": "stream",
     "text": [
      "1 2 3 4 Else is also printed\n"
     ]
    }
   ],
   "source": [
    "#important\n",
    "i = 1\n",
    "while i < 5:\n",
    "    if i == 6:\n",
    "        break\n",
    "    print(i, end=\" \")\n",
    "    i = i + 1\n",
    "else:\n",
    "    print(\"Else is also printed\")\n"
   ]
  },
  {
   "cell_type": "code",
   "execution_count": null,
   "id": "dcfc8cc0-3beb-4e63-a06f-f5820e530a94",
   "metadata": {},
   "outputs": [],
   "source": [
    "#infinite\n",
    "i=1\n",
    "while i<5:\n",
    "    if i==3:\n",
    "            continue\n",
    "    print(i, end=\" \")\n",
    "    i = i + 1"
   ]
  },
  {
   "cell_type": "code",
   "execution_count": 3,
   "id": "fcb5a205-55c3-404d-a172-bb9534d10276",
   "metadata": {},
   "outputs": [
    {
     "name": "stdin",
     "output_type": "stream",
     "text": [
      "Enter a number:  1125\n"
     ]
    },
    {
     "name": "stdout",
     "output_type": "stream",
     "text": [
      "5211\n"
     ]
    }
   ],
   "source": [
    "#4#Print indivisual number in reverse order\n",
    "#: If a number has trailing zeros, then its reverse will not include them. \n",
    "n = int(input(\"Enter a number: \"))\n",
    "rev = \"\"\n",
    "while n > 0:  # The condition should be n > 0 to include the last digit\n",
    "    l = n % 10\n",
    "    n = n // 10\n",
    "    rev += str(l)\n",
    "\n",
    "print(rev)\n"
   ]
  },
  {
   "cell_type": "code",
   "execution_count": 7,
   "id": "1349b786-2d4d-42d0-9fd9-6d43f9bdd582",
   "metadata": {
    "editable": true,
    "slideshow": {
     "slide_type": ""
    },
    "tags": []
   },
   "outputs": [
    {
     "name": "stdin",
     "output_type": "stream",
     "text": [
      " 10\n"
     ]
    },
    {
     "name": "stdout",
     "output_type": "stream",
     "text": [
      "144\n"
     ]
    }
   ],
   "source": [
    "#5#Write a program to find the Nth Fibonacci number using loops.\n",
    "n = int(input())\n",
    "if(n==1):\n",
    "    print(0)\n",
    "elif n==2:\n",
    "    print(1)\n",
    "else:\n",
    "    secL = 0\n",
    "    l = 1\n",
    "    curr = 0\n",
    "    while(n>=0):\n",
    "        curr = secL + l\n",
    "        secL = l\n",
    "        l = curr\n",
    "        n -= 1\n",
    "print(curr)       "
   ]
  },
  {
   "cell_type": "code",
   "execution_count": 7,
   "id": "1c5e91a6-40c1-4030-ae59-409bd31e1802",
   "metadata": {},
   "outputs": [
    {
     "data": {
      "text/plain": [
       "False"
      ]
     },
     "execution_count": 7,
     "metadata": {},
     "output_type": "execute_result"
    }
   ],
   "source": [
    "#6# check if a number i palndrom or not\n",
    "def checkPalindrom(n):\n",
    "    n1=n\n",
    "    res =0\n",
    "    while(n>0):\n",
    "        l = n%10\n",
    "        res = res*10+l\n",
    "        n = n//10\n",
    "    return res == n1\n",
    "checkPalindrom(12321)\n",
    "#checkPalindrom(12345432)\n",
    "#checkPalindrom(1)\n",
    "#checkPalindrom(11)\n",
    "3checkPalindrom(1001)\n",
    "checkPalindrom(100)\n",
    "    "
   ]
  },
  {
   "cell_type": "code",
   "execution_count": 11,
   "id": "8605807e-8abb-478c-ac51-1408fe58db16",
   "metadata": {},
   "outputs": [
    {
     "data": {
      "text/plain": [
       "3628800"
      ]
     },
     "execution_count": 11,
     "metadata": {},
     "output_type": "execute_result"
    }
   ],
   "source": [
    "#7#fact of a number\n",
    "def fact(n):\n",
    "    # write your code logic here !!\n",
    "    f=1\n",
    "    while n>1:\n",
    "        f = f*n\n",
    "        n -=1\n",
    "        \n",
    "    return f\n",
    "\n",
    "fact(10)"
   ]
  },
  {
   "cell_type": "code",
   "execution_count": 15,
   "id": "05fd6ffc-9be6-4b0b-b740-bdc907f3fd92",
   "metadata": {},
   "outputs": [
    {
     "data": {
      "text/plain": [
       "False"
      ]
     },
     "execution_count": 15,
     "metadata": {},
     "output_type": "execute_result"
    }
   ],
   "source": [
    "#8#check for fibonacci member: microsoft,amazon,\n",
    "def checkMember(n):\n",
    "    # write your code logic here !!!!\n",
    "    f1 = 1\n",
    "    f2=1 \n",
    "    if (n == 0 or n==1):\n",
    "        return True\n",
    "    while (True):\n",
    "        f= f1+f2\n",
    "        if(f == n):\n",
    "            return True\n",
    "        elif (f > n):\n",
    "            return False\n",
    "        else:\n",
    "            f2=f1\n",
    "            f1 = f\n",
    "checkMember(10)"
   ]
  },
  {
   "cell_type": "code",
   "execution_count": 20,
   "id": "7f7d4b80-1f25-4105-867a-2e17de6f32c4",
   "metadata": {},
   "outputs": [
    {
     "data": {
      "text/plain": [
       "2"
      ]
     },
     "execution_count": 20,
     "metadata": {},
     "output_type": "execute_result"
    }
   ],
   "source": [
    "#9#GCD\n",
    "from os import *\n",
    "from sys import *\n",
    "from collections import *\n",
    "from math import *\n",
    "\n",
    "def findGcd(x, y):\n",
    "    # Write your code here\n",
    "    # Return an integer\n",
    "    min = x\n",
    "    if(y> x):\n",
    "        max = y\n",
    "    else:\n",
    "        min = y\n",
    "        max = x\n",
    "    \n",
    "    gcd = min\n",
    "    while min > 0:\n",
    "        gcd = min\n",
    "        temp = max%min\n",
    "        max = min\n",
    "        min = temp\n",
    "        \n",
    "    return gcd\n",
    "findGcd(22,30)\n"
   ]
  },
  {
   "cell_type": "code",
   "execution_count": 10,
   "id": "e1bcc1aa-deff-4eb1-84b8-0bd633943760",
   "metadata": {},
   "outputs": [],
   "source": [
    "#10#2 pointer method\n",
    "'''\n",
    " You have been given an array/list(ARR) of size N. You need to swap every pair of alternate elements in the array/list.\n",
    "\n",
    "You don't need to print or return anything, just change in the input array itself.'''\n",
    "def swapAlternate(arr, n) :\n",
    "    #write your code here \n",
    "    p1 = 0\n",
    "    p2=1\n",
    "    for i in range(0,n,2):\n",
    "        p1 = i\n",
    "        p2 = i+1\n",
    "        if(p2 < n and arr[p1] != arr[p2]):\n",
    "            temp= arr[p1]\n",
    "            arr[p1] = arr[p2]\n",
    "            arr[p2]=temp"
   ]
  },
  {
   "cell_type": "code",
   "execution_count": 20,
   "id": "0dc774fa-862c-4087-87cf-7d906444530d",
   "metadata": {},
   "outputs": [
    {
     "data": {
      "text/plain": [
       "[2, 4, 6, 10, 8, 1, 3, 9]"
      ]
     },
     "execution_count": 20,
     "metadata": {},
     "output_type": "execute_result"
    }
   ],
   "source": [
    "#11#2 pointer method\n",
    "'''\n",
    "Rearange a list of number such that all odd numbers comes aftereven numbers.\n",
    "'''\n",
    "def swap(l,i , arr):\n",
    "    temp = arr[l]\n",
    "    arr[l] = arr[i]\n",
    "    arr[i] = temp\n",
    "\n",
    "def reArrangeNum(arr):\n",
    "    firstOdd = 0\n",
    "    l = len(arr)\n",
    "    for i in range(l):\n",
    "        if arr[i]%2 == 0:\n",
    "            swap(firstOdd,i,arr)\n",
    "            firstOdd = firstOdd+1\n",
    "    return arr\n",
    "\n",
    "reArrangeNum([2,4,1,6,3,10,8,9]) #[2, 4, 6, 10, 8, 1, 3, 9]\n",
    "        \n",
    "        "
   ]
  },
  {
   "cell_type": "code",
   "execution_count": 22,
   "id": "23bc3897-3384-4ead-8655-a7619d92e7d5",
   "metadata": {},
   "outputs": [],
   "source": [
    "#12# 2 pointer method\n",
    "'''\n",
    "You have been given an integer array/list(ARR) of size N that contains only integers, 0 and 1.\n",
    "Write a function to sort this array/list. Think of a solution which scans the array/list only once and don't require use of an extra array/list.\n",
    "\n",
    "Note:\n",
    "You need to change in the given array/list itself. Hence, no need to return or print anything. \n",
    "'''\n",
    "from sys import stdin\n",
    "\n",
    "def sortZeroesAndOne(arr, n) :\n",
    "    # write your code here \n",
    "    fisrtOneIdxx = 0\n",
    "    l=len(arr)\n",
    "    for i in range(l):\n",
    "        if arr[i] == 0:\n",
    "            arr[fisrtOneIdxx],arr[i] = arr[i],arr[fisrtOneIdxx] \n",
    "            fisrtOneIdxx +=1"
   ]
  },
  {
   "cell_type": "code",
   "execution_count": null,
   "id": "633cff1f-6ba8-4046-bd5e-007ec0bad982",
   "metadata": {},
   "outputs": [],
   "source": []
  }
 ],
 "metadata": {
  "kernelspec": {
   "display_name": "Python 3 (ipykernel)",
   "language": "python",
   "name": "python3"
  },
  "language_info": {
   "codemirror_mode": {
    "name": "ipython",
    "version": 3
   },
   "file_extension": ".py",
   "mimetype": "text/x-python",
   "name": "python",
   "nbconvert_exporter": "python",
   "pygments_lexer": "ipython3",
   "version": "3.12.4"
  }
 },
 "nbformat": 4,
 "nbformat_minor": 5
}
